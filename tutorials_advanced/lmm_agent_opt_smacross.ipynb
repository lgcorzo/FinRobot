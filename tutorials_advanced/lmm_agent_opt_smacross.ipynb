{
 "cells": [
  {
   "cell_type": "markdown",
   "metadata": {},
   "source": [
    "# Optimizing SMACross Trading with MultiModal Agent"
   ]
  },
  {
   "cell_type": "markdown",
   "metadata": {},
   "source": [
    "In the `agent_trade_strategist` demo. We explored an agent that could write trading strategy. But optimizing the strategy can be a hard problem, as the analysis it could do is really limited. Thus it would be crucial for us to turn on its vision swicth !\n",
    "\n",
    "In this demo, we introduce a multimodal agent to leverage the current strategy, and adjust parameters accordingly."
   ]
  },
  {
   "cell_type": "code",
   "execution_count": null,
   "metadata": {},
   "outputs": [],
   "source": [
    "import autogen\n",
    "from autogen import AssistantAgent, UserProxyAgent\n",
    "from autogen.agentchat.contrib.multimodal_conversable_agent import MultimodalConversableAgent\n",
    "from autogen.cache import Cache\n",
    "from textwrap import dedent"
   ]
  },
  {
   "cell_type": "code",
   "execution_count": 2,
   "metadata": {},
   "outputs": [],
   "source": [
    "config_list_4v = autogen.config_list_from_json(\n",
    "    \"../OAI_CONFIG_LIST\",\n",
    "    filter_dict={\n",
    "        \"model\": [\"azure-gpt\"],\n",
    "    },\n",
    ")\n",
    "config_list = autogen.config_list_from_json(\n",
    "    \"../OAI_CONFIG_LIST\",\n",
    "    filter_dict={\n",
    "        \"model\": [\"azure-gpt\"],\n",
    "    },\n",
    ")\n",
    "llm_config_4v = {\"config_list\": config_list_4v, \"temperature\": 0.0}\n",
    "llm_config = {\"config_list\": config_list, \"temperature\": 0.0}"
   ]
  },
  {
   "cell_type": "markdown",
   "metadata": {},
   "source": [
    "For this task, we need:\n",
    "- A normal llm agent as image provider: Call charting functions / provide backtesting result charts for multimodal agent\n",
    "- A multimodal agent as strategist: Inspect charts and determine parameters to use for strategy\n",
    "- A user proxy to execute python functions and control the conversations."
   ]
  },
  {
   "cell_type": "code",
   "execution_count": 3,
   "metadata": {},
   "outputs": [],
   "source": [
    "from finrobot.toolkits import register_toolkits\n",
    "from finrobot.functional.charting import MplFinanceUtils\n",
    "from finrobot.functional.quantitative import BackTraderUtils\n",
    "from finrobot.functional.coding import IPythonUtils\n",
    "\n",
    "\n",
    "strategist = MultimodalConversableAgent(\n",
    "    name=\"Trade_Strategist\",\n",
    "    system_message=dedent(\n",
    "        \"\"\"\n",
    "        You are a trading strategist who inspect financial charts and optimize trading strategies.\n",
    "        You have been tasked with developing a Simple Moving Average (SMA) Crossover strategy.\n",
    "        You have the following main actions to take:\n",
    "        1. Ask the backtesting analyst to plot historical stock price data with designated ma parameters.\n",
    "        2. Inspect the stock price chart and determine fast/slow parameters.\n",
    "        3. Ask the backtesting analyst to backtest the SMACrossover trading strategy with designated parameters to evaluate its performance. \n",
    "        4. Inspect the backtest result and optimize the fast/slow parameters based on the returned results.\n",
    "        Reply TERMINATE when you think the strategy is good enough.\n",
    "        \"\"\"\n",
    "    ),\n",
    "    llm_config=llm_config_4v,\n",
    ")\n",
    "\n",
    "analyst = AssistantAgent(\n",
    "    name=\"Backtesting_Analyst\",\n",
    "    system_message=dedent(\n",
    "        \"\"\"\n",
    "        You are a backtesting analyst with a strong command of quantitative analysis tools. \n",
    "        You have two main tasks to perform, choose one each time you are asked by the trading strategist:\n",
    "        1. Plot historical stock price data with designated ma parameters according to the trading strategist's need.\n",
    "        2. Backtest the SMACross trading strategy with designated parameters and save the results as image file.\n",
    "        For both tasks, after the tool calling, you should do as follows:\n",
    "            1. display the created & saved image file using the `display_image` tool;\n",
    "            2. Assume the saved image file is \"test.png\", reply as follows: \"Optimize the fast/slow parameters based on this image <img test.png>. TERMINATE\".\n",
    "        \"\"\"\n",
    "    ),\n",
    "    llm_config=llm_config,\n",
    ")\n",
    "analyst_executor = UserProxyAgent(\n",
    "    name=\"Backtesting_Analyst_Executor\",\n",
    "    human_input_mode=\"NEVER\",\n",
    "    is_termination_msg=lambda x: x.get(\"content\", \"\")\n",
    "    and x.get(\"content\", \"\").find(\"TERMINATE\") >= 0,\n",
    "    code_execution_config={\n",
    "        \"last_n_messages\": 1,\n",
    "        \"work_dir\": \"coding\",\n",
    "        \"use_docker\": False,\n",
    "    },  # Please set use_docker=True if docker is available to run the generated code. Using docker is safer than running the generated code directly.\n",
    ")\n",
    "register_toolkits(\n",
    "    [\n",
    "        BackTraderUtils.back_test,\n",
    "        MplFinanceUtils.plot_stock_price_chart,\n",
    "        IPythonUtils.display_image,\n",
    "    ],\n",
    "    analyst,\n",
    "    analyst_executor,\n",
    ")"
   ]
  },
  {
   "cell_type": "code",
   "execution_count": 4,
   "metadata": {},
   "outputs": [],
   "source": [
    "def reflection_message_analyst(recipient, messages, sender, config):\n",
    "    print(\"Reflecting strategist's response ...\")\n",
    "    last_msg = recipient.chat_messages_for_summary(sender)[-1][\"content\"]\n",
    "    return (\n",
    "        \"Message from Trade Strategist is as follows:\"\n",
    "        + last_msg\n",
    "        + \"\\n\\nBased on his information, conduct a backtest on the specified stock and strategy, and report your backtesting results back to the strategist.\"\n",
    "    )\n",
    "\n",
    "\n",
    "user_proxy = UserProxyAgent(\n",
    "    name=\"User_Proxy\",\n",
    "    is_termination_msg=lambda x: x.get(\"content\", \"\")\n",
    "    and x.get(\"content\", \"\").endswith(\"TERMINATE\"),\n",
    "    human_input_mode=\"NEVER\",\n",
    "    max_consecutive_auto_reply=10,\n",
    "    code_execution_config={\n",
    "        \"last_n_messages\": 1,\n",
    "        \"work_dir\": \"coding\",\n",
    "        \"use_docker\": False,\n",
    "    },  # User Proxy dont need to execute code here\n",
    ")\n",
    "\n",
    "user_proxy.register_nested_chats(\n",
    "    [\n",
    "        {\n",
    "            \"sender\": analyst_executor,\n",
    "            \"recipient\": analyst,\n",
    "            \"message\": reflection_message_analyst,\n",
    "            \"max_turns\": 10,\n",
    "            \"summary_method\": \"last_msg\",\n",
    "        }\n",
    "    ],\n",
    "    trigger=strategist,\n",
    ")"
   ]
  },
  {
   "cell_type": "code",
   "execution_count": null,
   "metadata": {},
   "outputs": [],
   "source": [
    "company = \"Microsoft\"\n",
    "start_date = \"2022-01-01\"\n",
    "end_date = \"2024-01-01\"\n",
    "\n",
    "task = dedent(\n",
    "    f\"\"\"\n",
    "    Based on {company}'s stock data from {start_date} to {end_date}, determine the possible optimal parameters for an SMACrossover Strategy over this period. \n",
    "    First, ask the analyst to plot a candlestick chart of the stock price data to visually inspect the price movements and make an initial assessment.\n",
    "    Then, ask the analyst to backtest the strategy parameters using the backtesting tool, and report results back for further optimization.\n",
    "\"\"\"\n",
    ")\n",
    "\n",
    "with Cache.disk() as cache:\n",
    "    user_proxy.initiate_chat(\n",
    "        recipient=strategist, message=task, max_turns=5, summary_method=\"last_msg\"\n",
    "    )"
   ]
  }
 ],
 "metadata": {
  "kernelspec": {
   "display_name": "finrobot",
   "language": "python",
   "name": "python3"
  },
  "language_info": {
   "codemirror_mode": {
    "name": "ipython",
    "version": 3
   },
   "file_extension": ".py",
   "mimetype": "text/x-python",
   "name": "python",
   "nbconvert_exporter": "python",
   "pygments_lexer": "ipython3",
   "version": "3.10.16"
  }
 },
 "nbformat": 4,
 "nbformat_minor": 2
}
